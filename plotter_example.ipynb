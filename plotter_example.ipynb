{
 "cells": [
  {
   "cell_type": "code",
   "execution_count": 2,
   "metadata": {},
   "outputs": [
    {
     "name": "stderr",
     "output_type": "stream",
     "text": [
      "/home/sean/miniconda3/lib/python3.6/site-packages/xmitgcm/mds_store.py:696: UserWarning: Couldn't find available_diagnostics.log in /home/sean/Desktop/test-data. Using default version.\n",
      "  \"in %s. Using default version.\" % data_dir)\n",
      "/home/sean/miniconda3/lib/python3.6/site-packages/xmitgcm/utils.py:314: UserWarning: Not sure what to do with rlev = L\n",
      "  warnings.warn(\"Not sure what to do with rlev = \" + rlev)\n",
      "/home/sean/miniconda3/lib/python3.6/site-packages/xmitgcm/mds_store.py:220: FutureWarning: iteration over an xarray.Dataset will change in xarray v0.11 to only include data variables, not coordinates. Iterate over the Dataset.variables property instead to preserve existing behavior in a forwards compatible manner.\n",
      "  for vname in ds:\n"
     ]
    },
    {
     "data": {
      "text/plain": [
       "<xarray.Dataset>\n",
       "Dimensions:  (i: 90, i_g: 90, j: 1170, j_g: 1170)\n",
       "Coordinates:\n",
       "  * j        (j) int64 0 1 2 3 4 5 6 7 8 9 10 11 12 13 14 15 16 17 18 19 20 ...\n",
       "  * i        (i) int64 0 1 2 3 4 5 6 7 8 9 10 11 12 13 14 15 16 17 18 19 20 ...\n",
       "  * j_g      (j_g) int64 0 1 2 3 4 5 6 7 8 9 10 11 12 13 14 15 16 17 18 19 ...\n",
       "  * i_g      (i_g) int64 0 1 2 3 4 5 6 7 8 9 10 11 12 13 14 15 16 17 18 19 ...\n",
       "    XC       (j, i) float32 dask.array<shape=(1170, 90), chunksize=(90, 90)>\n",
       "    XG       (j_g, i_g) float32 dask.array<shape=(1170, 90), chunksize=(90, 90)>\n",
       "    YC       (j, i) float32 dask.array<shape=(1170, 90), chunksize=(90, 90)>\n",
       "    YG       (j_g, i_g) float32 dask.array<shape=(1170, 90), chunksize=(90, 90)>\n",
       "Data variables:\n",
       "    *empty*"
      ]
     },
     "execution_count": 2,
     "metadata": {},
     "output_type": "execute_result"
    }
   ],
   "source": [
    "from xmitgcm import open_mdsdataset\n",
    "from plotters import LLC_plotter\n",
    "\n",
    "# Set as appropriate; I've saved only the grid data files in a dedicated\n",
    "# directory.\n",
    "data_dir = '/home/sean/Desktop/test-data'\n",
    "grid_dir = '/home/sean/Desktop/grid-data'\n",
    "ds = open_mdsdataset(grid_dir=grid_dir, data_dir=data_dir, delta_t=3600, geometry='llc')\n",
    "\n",
    "# Make a plotter with the dataset as the parent. Note that if you modify the data set\n",
    "# stored in `ds`, changes *are* stored in the plotter's `parent` variable. However, if\n",
    "# you rebind `ds`, the plotter still sees the last state of the data set.\n",
    "plotter = LLC_plotter(ds)\n",
    "\n",
    "# Have a look at the data set that the plotter stores internally:\n",
    "plotter.ds"
   ]
  },
  {
   "cell_type": "code",
   "execution_count": 3,
   "metadata": {},
   "outputs": [
    {
     "data": {
      "text/plain": [
       "<xarray.Dataset>\n",
       "Dimensions:      (i: 90, i_g: 90, j: 1170, j_g: 1170, time: 6)\n",
       "Coordinates:\n",
       "  * j            (j) int64 0 1 2 3 4 5 6 7 8 9 10 11 12 13 14 15 16 17 18 19 ...\n",
       "  * i            (i) int64 0 1 2 3 4 5 6 7 8 9 10 11 12 13 14 15 16 17 18 19 ...\n",
       "  * j_g          (j_g) int64 0 1 2 3 4 5 6 7 8 9 10 11 12 13 14 15 16 17 18 ...\n",
       "  * i_g          (i_g) int64 0 1 2 3 4 5 6 7 8 9 10 11 12 13 14 15 16 17 18 ...\n",
       "    XC           (j, i) float32 dask.array<shape=(1170, 90), chunksize=(90, 90)>\n",
       "    XG           (j_g, i_g) float32 dask.array<shape=(1170, 90), chunksize=(90, 90)>\n",
       "    YC           (j, i) float32 dask.array<shape=(1170, 90), chunksize=(90, 90)>\n",
       "    YG           (j_g, i_g) float32 dask.array<shape=(1170, 90), chunksize=(90, 90)>\n",
       "  * time         (time) int64 2635200 5140800 7819200 10411200 13089600 15681600\n",
       "Data variables:\n",
       "    var_to_plot  (time, j, i) float32 dask.array<shape=(6, 1170, 90), chunksize=(6, 90, 90)>"
      ]
     },
     "execution_count": 3,
     "metadata": {},
     "output_type": "execute_result"
    }
   ],
   "source": [
    "# Now compute some data variable that we want to plot, and\n",
    "# store it in the data set.\n",
    "ds['THETA_vol_avg'] = (ds.THETA * ds.rA * ds.drF).sum(dim='k')\n",
    "plotter.set_data_variable('THETA_vol_avg')\n",
    "\n",
    "# And now the internal data set looks like:\n",
    "plotter.ds"
   ]
  },
  {
   "cell_type": "markdown",
   "metadata": {},
   "source": [
    "Actual plotting coming soon; I haven't got GeoViews examples to work."
   ]
  },
  {
   "cell_type": "code",
   "execution_count": null,
   "metadata": {},
   "outputs": [],
   "source": []
  }
 ],
 "metadata": {
  "kernelspec": {
   "display_name": "Python 3",
   "language": "python",
   "name": "python3"
  },
  "language_info": {
   "codemirror_mode": {
    "name": "ipython",
    "version": 3
   },
   "file_extension": ".py",
   "mimetype": "text/x-python",
   "name": "python",
   "nbconvert_exporter": "python",
   "pygments_lexer": "ipython3",
   "version": "3.6.3"
  }
 },
 "nbformat": 4,
 "nbformat_minor": 2
}
